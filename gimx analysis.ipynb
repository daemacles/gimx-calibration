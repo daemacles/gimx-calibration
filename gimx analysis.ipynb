{
 "cells": [
  {
   "cell_type": "code",
   "execution_count": 1,
   "metadata": {
    "collapsed": false
   },
   "outputs": [
    {
     "name": "stdout",
     "output_type": "stream",
     "text": [
      "Populating the interactive namespace from numpy and matplotlib\n"
     ]
    }
   ],
   "source": [
    "%pylab qt"
   ]
  },
  {
   "cell_type": "code",
   "execution_count": 2,
   "metadata": {
    "collapsed": false
   },
   "outputs": [
    {
     "name": "stdout",
     "output_type": "stream",
     "text": [
      "{\n",
      "  \"stdin_port\": 40042, \n",
      "  \"ip\": \"127.0.0.1\", \n",
      "  \"control_port\": 46206, \n",
      "  \"hb_port\": 60907, \n",
      "  \"signature_scheme\": \"hmac-sha256\", \n",
      "  \"key\": \"171997fc-394e-4788-838b-77e93811bdc2\", \n",
      "  \"shell_port\": 33663, \n",
      "  \"transport\": \"tcp\", \n",
      "  \"iopub_port\": 59033\n",
      "}\n",
      "\n",
      "Paste the above JSON into a file, and connect with:\n",
      "    $> ipython <app> --existing <file>\n",
      "or, if you are local, you can connect with just:\n",
      "    $> ipython <app> --existing /run/user/1000/jupyter/kernel-8d1525d7-a45a-41c1-b02a-9a99b1699861.json \n",
      "or even just:\n",
      "    $> ipython <app> --existing \n",
      "if this is the most recent IPython session you have started.\n"
     ]
    }
   ],
   "source": [
    "%matplotlib inline\n",
    "%connect_info"
   ]
  },
  {
   "cell_type": "markdown",
   "metadata": {},
   "source": [
    "Try to mask out HUD/UI elements by detection regions that slowly change from frame to frame"
   ]
  },
  {
   "cell_type": "code",
   "execution_count": 3,
   "metadata": {
    "collapsed": false
   },
   "outputs": [
    {
     "ename": "NameError",
     "evalue": "name 'images' is not defined",
     "output_type": "error",
     "traceback": [
      "\u001b[1;31m---------------------------------------------------------------------------\u001b[0m",
      "\u001b[1;31mNameError\u001b[0m                                 Traceback (most recent call last)",
      "\u001b[1;32m<ipython-input-3-9f6059782af9>\u001b[0m in \u001b[0;36m<module>\u001b[1;34m()\u001b[0m\n\u001b[1;32m----> 1\u001b[1;33m \u001b[0mimages\u001b[0m \u001b[1;33m=\u001b[0m \u001b[0marray\u001b[0m\u001b[1;33m(\u001b[0m\u001b[0mimages\u001b[0m\u001b[1;33m)\u001b[0m\u001b[1;33m\u001b[0m\u001b[0m\n\u001b[0m\u001b[0;32m      2\u001b[0m \u001b[0mdiffs\u001b[0m \u001b[1;33m=\u001b[0m \u001b[0mimages\u001b[0m\u001b[1;33m[\u001b[0m\u001b[1;36m1\u001b[0m\u001b[1;33m:\u001b[0m\u001b[1;33m]\u001b[0m \u001b[1;33m-\u001b[0m \u001b[0mimages\u001b[0m\u001b[1;33m[\u001b[0m\u001b[1;33m:\u001b[0m\u001b[1;33m-\u001b[0m\u001b[1;36m1\u001b[0m\u001b[1;33m]\u001b[0m\u001b[1;33m\u001b[0m\u001b[0m\n\u001b[0;32m      3\u001b[0m \u001b[0mmask\u001b[0m \u001b[1;33m=\u001b[0m \u001b[0mstd\u001b[0m\u001b[1;33m(\u001b[0m\u001b[0mdiffs\u001b[0m\u001b[1;33m,\u001b[0m \u001b[1;36m0\u001b[0m\u001b[1;33m)\u001b[0m\u001b[1;33m\u001b[0m\u001b[0m\n\u001b[0;32m      4\u001b[0m \u001b[0mthresh\u001b[0m \u001b[1;33m=\u001b[0m \u001b[1;36m0.3\u001b[0m\u001b[1;33m;\u001b[0m\u001b[1;33m\u001b[0m\u001b[0m\n\u001b[0;32m      5\u001b[0m \u001b[0mmask\u001b[0m \u001b[1;33m=\u001b[0m \u001b[0mcv2\u001b[0m\u001b[1;33m.\u001b[0m\u001b[0mGaussianBlur\u001b[0m\u001b[1;33m(\u001b[0m\u001b[0mmask\u001b[0m\u001b[1;33m,\u001b[0m \u001b[1;33m(\u001b[0m\u001b[1;36m0\u001b[0m\u001b[1;33m,\u001b[0m\u001b[1;36m0\u001b[0m\u001b[1;33m)\u001b[0m\u001b[1;33m,\u001b[0m \u001b[1;36m2\u001b[0m\u001b[1;33m)\u001b[0m\u001b[1;33m\u001b[0m\u001b[0m\n",
      "\u001b[1;31mNameError\u001b[0m: name 'images' is not defined"
     ]
    }
   ],
   "source": [
    "images = array(images)\n",
    "diffs = images[1:] - images[:-1]\n",
    "mask = std(diffs, 0)\n",
    "thresh = 0.3;\n",
    "mask = cv2.GaussianBlur(mask, (0,0), 2)\n",
    "mask[mask < mask.max() * thresh] = 0\n",
    "mask[mask >= mask.max() * thresh] = 1\n",
    "\n",
    "imshow(mask)"
   ]
  },
  {
   "cell_type": "code",
   "execution_count": 128,
   "metadata": {
    "collapsed": false
   },
   "outputs": [],
   "source": [
    "import cv2"
   ]
  },
  {
   "cell_type": "code",
   "execution_count": 190,
   "metadata": {
    "collapsed": false
   },
   "outputs": [
    {
     "data": {
      "text/plain": [
       "<matplotlib.image.AxesImage at 0x7fdc2bce3650>"
      ]
     },
     "execution_count": 190,
     "metadata": {},
     "output_type": "execute_result"
    },
    {
     "data": {
      "image/png": "[encoded data removed]",
      "text/plain": [
       "<matplotlib.figure.Figure at 0x7fdc3df5c550>"
      ]
     },
     "metadata": {},
     "output_type": "display_data"
    }
   ],
   "source": [
    "mask2 = cv2.medianBlur(array(mask, dtype=np.float32), 5)\n",
    "mask2 = cv2.erode(mask2, ones((3,3)))\n",
    "imshow(mask2)"
   ]
  },
  {
   "cell_type": "code",
   "execution_count": 53,
   "metadata": {
    "collapsed": false
   },
   "outputs": [
    {
     "data": {
      "text/plain": [
       "[<matplotlib.lines.Line2D at 0x7f00c27df5d0>]"
      ]
     },
     "execution_count": 53,
     "metadata": {},
     "output_type": "execute_result"
    }
   ],
   "source": [
    "imshow(images[4], cmap=cm.gray)\n",
    "plot(points[:, 0], points[:, 1], 'r.')"
   ]
  },
  {
   "cell_type": "code",
   "execution_count": 602,
   "metadata": {
    "collapsed": false
   },
   "outputs": [
    {
     "data": {
      "text/plain": [
       "[<matplotlib.lines.Line2D at 0x7f098ee01990>]"
      ]
     },
     "execution_count": 602,
     "metadata": {},
     "output_type": "execute_result"
    },
    {
     "data": {
      "image/png": "[encoded data removed]",
      "text/plain": [
       "<matplotlib.figure.Figure at 0x7f098eff8750>"
      ]
     },
     "metadata": {},
     "output_type": "display_data"
    }
   ],
   "source": [
    "plot(mv[:,0], mv[:,2], '.')"
   ]
  },
  {
   "cell_type": "code",
   "execution_count": 1614,
   "metadata": {
    "collapsed": false
   },
   "outputs": [
    {
     "data": {
      "text/plain": [
       "(2.9389954384692558e-05, -0.035636072284646048, 29.733696485112709)"
      ]
     },
     "execution_count": 1614,
     "metadata": {},
     "output_type": "execute_result"
    }
   ],
   "source": [
    "from sklearn import linear_model\n",
    "\n",
    "X = np.vstack((mv[:, 0]**2, mv[:, 0], ones(mv.shape[0]))).T\n",
    "y = mv[:, 2]\n",
    "\n",
    "# Robustly fit linear model with RANSAC algorithm\n",
    "model_ransac = linear_model.RANSACRegressor(linear_model.LinearRegression(fit_intercept=False))\n",
    "model_ransac.fit(X, y)\n",
    "inlier_mask = model_ransac.inlier_mask_\n",
    "outlier_mask = np.logical_not(inlier_mask)\n",
    "\n",
    "a, b, c = model_ransac.estimator_.coef_\n",
    "a, b, c"
   ]
  },
  {
   "cell_type": "code",
   "execution_count": 1615,
   "metadata": {
    "collapsed": false
   },
   "outputs": [
    {
     "data": {
      "text/plain": [
       "18.931283939195769"
      ]
     },
     "execution_count": 1615,
     "metadata": {},
     "output_type": "execute_result"
    }
   ],
   "source": [
    "%matplotlib qt\n",
    "\n",
    "X_in = mv[inlier_mask, 0]\n",
    "X_out = mv[outlier_mask, 0]\n",
    "y_in = mv[inlier_mask, 2]\n",
    "y_out = mv[outlier_mask, 2]\n",
    "plot(X_in, y_in, '.')\n",
    "plot(X_out, y_out, '.')\n",
    "t = linspace(X_in.min(), X_in.max(), 100)\n",
    "plot(t, a*t**2 + b*t + c)\n",
    "x_min = -b/(2*a)\n",
    "a*x_min**2 + b*x_min + c"
   ]
  },
  {
   "cell_type": "code",
   "execution_count": 1672,
   "metadata": {
    "collapsed": false
   },
   "outputs": [
    {
     "data": {
      "text/plain": [
       "[<matplotlib.lines.Line2D at 0x7f098b0f6650>]"
      ]
     },
     "execution_count": 1672,
     "metadata": {},
     "output_type": "execute_result"
    }
   ],
   "source": [
    "control = [10e3, 15e3, 20e3,\n",
    "           25e3, 26e3, 27e3, 28e3, 29e3, 29.5e3,\n",
    "           30e3]\n",
    "speed = [9.740644336872279/3, 36.030645952209511/3, 37.124312115088088, \n",
    "         101.34249310780383, 123.63380553013994, 80.687738743971806*2, 95.34390238190602*2, 110.64445509500386*2, 78.85052787064636*10,\n",
    "         162.92974488164242*10]\n",
    "plot(control, speed, '.-')"
   ]
  },
  {
   "cell_type": "code",
   "execution_count": 571,
   "metadata": {
    "collapsed": false
   },
   "outputs": [
    {
     "name": "stdout",
     "output_type": "stream",
     "text": [
      "Populating the interactive namespace from numpy and matplotlib\n"
     ]
    },
    {
     "name": "stderr",
     "output_type": "stream",
     "text": [
      "WARNING: pylab import has clobbered these variables: ['diff']\n",
      "`%matplotlib` prevents importing * from pylab and numpy\n"
     ]
    },
    {
     "data": {
      "image/png": "[encoded data removed]",
      "text/plain": [
       "<matplotlib.figure.Figure at 0x7ff0ac72c410>"
      ]
     },
     "metadata": {},
     "output_type": "display_data"
    }
   ],
   "source": [
    "%pylab inline\n",
    "\n",
    "from sklearn import linear_model\n",
    "x_mins = []\n",
    "y_mins = []\n",
    "for idx in range(len(M)):\n",
    "    mv = M[idx]\n",
    "    s = S[idx]\n",
    "    #plot(mv[:,0], mv[:,2], '.')\n",
    "    \n",
    "    X = np.vstack((mv[:, 0]**2, mv[:, 0], ones(mv.shape[0]))).T\n",
    "    y = mv[:, 2] / s\n",
    "\n",
    "    # Robustly fit linear model with RANSAC algorithm\n",
    "    model_ransac = linear_model.RANSACRegressor(linear_model.LinearRegression(fit_intercept=False))\n",
    "    model_ransac.fit(X, y)\n",
    "    inlier_mask = model_ransac.inlier_mask_\n",
    "    outlier_mask = np.logical_not(inlier_mask)\n",
    "\n",
    "    a, b, c = model_ransac.estimator_.coef_\n",
    "    a, b, c\n",
    "    \n",
    "    X_in = mv[inlier_mask, 0]\n",
    "    X_out = mv[outlier_mask, 0]\n",
    "    y_in = mv[inlier_mask, 2] / s\n",
    "    y_out = mv[outlier_mask, 2] / s\n",
    "    plot(X_in, y_in, '.')\n",
    "    #plot(X_out, y_out, '.')\n",
    "    t = linspace(X_in.min(), X_in.max(), 100)\n",
    "    plot(t, a*t**2 + b*t + c)\n",
    "    x_min = -b/(2*a)\n",
    "    x_mins.append(x_min)\n",
    "    y_mins.append(a*x_min**2 + b*x_min + c)\n",
    "    \n",
    "y_mins = array(y_mins)"
   ]
  },
  {
   "cell_type": "code",
   "execution_count": 572,
   "metadata": {
    "collapsed": false
   },
   "outputs": [
    {
     "data": {
      "text/plain": [
       "[<matplotlib.lines.Line2D at 0x7ff06f517a90>]"
      ]
     },
     "execution_count": 572,
     "metadata": {},
     "output_type": "execute_result"
    },
    {
     "data": {
      "image/png": "[encoded data removed]",
      "text/plain": [
       "<matplotlib.figure.Figure at 0x7ff075637250>"
      ]
     },
     "metadata": {},
     "output_type": "display_data"
    }
   ],
   "source": [
    "plot(y_mins, '.')"
   ]
  },
  {
   "cell_type": "code",
   "execution_count": 577,
   "metadata": {
    "collapsed": false
   },
   "outputs": [
    {
     "name": "stdout",
     "output_type": "stream",
     "text": [
      "0\n",
      "10\n",
      "20\n",
      "30\n",
      "40\n",
      "50\n",
      "60\n",
      "70\n",
      "80\n",
      "90\n",
      "100\n",
      "110\n",
      "120\n",
      "130\n",
      "140\n",
      "150\n",
      "160\n",
      "170\n",
      "180\n",
      "190\n",
      "eps_hat=10.1156770381, f_hat=853.105091424\n",
      "avg diff is 0.00018717084228\n",
      "std diff is 0.000215140241104\n"
     ]
    },
    {
     "data": {
      "image/png": "[encoded data removed]",
      "text/plain": [
       "<matplotlib.figure.Figure at 0x7ff06f680990>"
      ]
     },
     "metadata": {},
     "output_type": "display_data"
    }
   ],
   "source": [
    "from scipy.optimize import minimize\n",
    "import sys\n",
    "\n",
    "def FrameDelta(X, rot_hz, epsilon, s=1, dt=1.0/60.0, w=1280, f=1280):\n",
    "    X = X - w/2 + epsilon\n",
    "    phi_dot = 2*pi * rot_hz\n",
    "\n",
    "    Theta1 = arctan(X / f)\n",
    "    Theta2 = Theta1 + s*dt*phi_dot\n",
    "    return f*(tan(Theta2) - tan(Theta1))\n",
    "\n",
    "def GetInliers(X, y):\n",
    "    X = np.vstack((X**2, X, ones(X.shape[0]))).T\n",
    "\n",
    "    # Robustly fit linear model with RANSAC algorithm\n",
    "    model_ransac = linear_model.RANSACRegressor(linear_model.LinearRegression(fit_intercept=False))\n",
    "    model_ransac.fit(X, y)\n",
    "    return model_ransac.inlier_mask_\n",
    "\n",
    "class MinFun (object):\n",
    "    def __init__(self, X, y, s):\n",
    "        self.X = X\n",
    "        self.y = y\n",
    "        self.s = s\n",
    "        \n",
    "    def __call__(self, args):\n",
    "        rot_hz = args[0]\n",
    "        epsilon = args[1]\n",
    "        f = args[2]\n",
    "        y_hat = FrameDelta(self.X, rot_hz, epsilon, self.s, f=f)\n",
    "        diff = y_hat - self.y\n",
    "        #return diff.dot(diff)\n",
    "        return sum((abs(diff) + 1))\n",
    "\n",
    "tick = True\n",
    "\n",
    "thetas = []\n",
    "for idx in xrange(len(M)):\n",
    "#for idx in xrange(90,110):\n",
    "    #idx = 90\n",
    "    s = S[idx]\n",
    "    X = M[idx][:, 0]\n",
    "    y = M[idx][:, 2]\n",
    "    c = C[idx]\n",
    "    W = 1280\n",
    "    #inliers = GetInliers(X, y)\n",
    "    #X_in = X[inliers]\n",
    "    #y_in = y[inliers]\n",
    "    X_in = X\n",
    "    y_in = y\n",
    "\n",
    "    minfun = MinFun(X_in, y_in, s)\n",
    "    x0 = [sqrt(0.0577), eps_hat, f_hat]\n",
    "    #x0 = [sqrt(0.0577), 0, 1000]\n",
    "    if tick:\n",
    "        res = minimize(lambda x: minfun([x[0], eps_hat, f_hat]), x0, method='Powell')\n",
    "    else:\n",
    "        res = minimize(minfun, x0, method='Powell')\n",
    "\n",
    "    #print '{} rot_hz={:.4f}, eps={:.4f}, f={:.4f}'.format(res.success, res.x[0], res.x[1], res.x[2])\n",
    "    #print res\n",
    "    \n",
    "    if res.success:\n",
    "        thetas.append([idx, s, c, res.x[0], res.x[1], res.x[2]])\n",
    "        if idx % 10 == 0:\n",
    "            print idx            \n",
    "    else:\n",
    "        print 'Fail at', idx\n",
    "\n",
    "    #N = 200\n",
    "    #t = linspace(0, W, N)\n",
    "    #y_lin = FrameDelta(t, res.x[0], res.x[1], s, f=res.x[2])\n",
    "    \n",
    "    #plot(t, y_lin)\n",
    "    #plot(X_in, y_in, '.')\n",
    "\n",
    "thetas = array(thetas)\n",
    "\n",
    "if not tick:\n",
    "    eps_hat = mean(thetas[:120, 4])\n",
    "    f_hat = mean(thetas[:120, 5])\n",
    "    \n",
    "print 'eps_hat={}, f_hat={}'.format(eps_hat, f_hat)\n",
    "\n",
    "N = 130\n",
    "y_mins_norm = thetas[:N, 3].max()*y_mins/y_mins.max()\n",
    "\n",
    "plot(thetas[:N, 0], thetas[:N, 3], '.')\n",
    "plot(y_mins_norm[:N], '.')\n",
    "\n",
    "diff = abs(thetas[:N, 3] - y_mins_norm[:N])\n",
    "print 'avg diff is', sum(diff / N)\n",
    "print 'std diff is', std(diff)"
   ]
  },
  {
   "cell_type": "code",
   "execution_count": 653,
   "metadata": {
    "collapsed": false
   },
   "outputs": [
    {
     "name": "stdout",
     "output_type": "stream",
     "text": [
      "0.00926814497731\n"
     ]
    },
    {
     "data": {
      "text/plain": [
       "[<matplotlib.lines.Line2D at 0x7ff06d11f590>]"
      ]
     },
     "execution_count": 653,
     "metadata": {},
     "output_type": "execute_result"
    },
    {
     "data": {
      "image/png": "[encoded data removed]",
      "text/plain": [
       "<matplotlib.figure.Figure at 0x7ff06d8e3a10>"
      ]
     },
     "metadata": {},
     "output_type": "display_data"
    }
   ],
   "source": [
    "#plot(thetas[:N, 2], thetas[:N, 3])\n",
    "from scipy.optimize import curve_fit\n",
    "\n",
    "def small_control(x, a, c, d):\n",
    "    return a*np.exp(c*x) + d\n",
    "\n",
    "popt, pcov = curve_fit(small_control, C[4:,0], y_mins_norm[4:], p0=(.001, 1e-3, 0))\n",
    "#print popt, pcov\n",
    "\n",
    "t = linspace(1000, 30000, 100)\n",
    "\n",
    "#plot(C[4:], y_mins_norm[4:])\n",
    "#plot(t, small_control(t, *popt))\n",
    "\n",
    "y_hat = small_control(C[4:], *popt)[:,0]\n",
    "\n",
    "print max(abs(y_hat - y_mins_norm[4:])) \n",
    "plot(C[4:], y_hat)\n",
    "plot(C[4:], y_mins_norm[4:])"
   ]
  },
  {
   "cell_type": "code",
   "execution_count": 693,
   "metadata": {
    "collapsed": false
   },
   "outputs": [
    {
     "name": "stdout",
     "output_type": "stream",
     "text": [
      "[ 0.00136871  0.00017554 -0.0057529 ]\n",
      "0.22262857715\n",
      "0.939737022742\n"
     ]
    }
   ],
   "source": [
    "def GetControl (phi, popt):\n",
    "    a, c, d = popt\n",
    "    inflection = y_mins_norm[4:].max()\n",
    "    fastest = y_mins_norm.max()\n",
    "    if phi < inflection:\n",
    "        return log((phi - d)/a)/c\n",
    "    else:\n",
    "        exp_control = log((inflection - d)/a)/c\n",
    "        max_control = 32000\n",
    "        coin = random.rand() * (fastest - inflection)\n",
    "        if coin + inflection < phi:\n",
    "            return max_control\n",
    "        else:\n",
    "            return exp_control\n",
    "\n",
    "print popt\n",
    "print y_mins_norm[4:].max()\n",
    "print y_mins_norm.max()\n"
   ]
  },
  {
   "cell_type": "code",
   "execution_count": 6,
   "metadata": {
    "collapsed": false
   },
   "outputs": [
    {
     "data": {
      "text/plain": [
       "(array([[ 31000.],\n",
       "        [ 30900.],\n",
       "        [ 30800.],\n",
       "        [ 30700.],\n",
       "        [ 30600.],\n",
       "        [ 30500.],\n",
       "        [ 30400.],\n",
       "        [ 30300.],\n",
       "        [ 30200.],\n",
       "        [ 30100.],\n",
       "        [ 30000.],\n",
       "        [ 29900.],\n",
       "        [ 29800.],\n",
       "        [ 29700.],\n",
       "        [ 29600.],\n",
       "        [ 29500.],\n",
       "        [ 29400.],\n",
       "        [ 29300.],\n",
       "        [ 29200.],\n",
       "        [ 29100.],\n",
       "        [ 29000.],\n",
       "        [ 28900.],\n",
       "        [ 28800.],\n",
       "        [ 28700.],\n",
       "        [ 28600.],\n",
       "        [ 28500.],\n",
       "        [ 28400.],\n",
       "        [ 28300.],\n",
       "        [ 28200.],\n",
       "        [ 28100.],\n",
       "        [ 28000.],\n",
       "        [ 27900.],\n",
       "        [ 27800.],\n",
       "        [ 27700.],\n",
       "        [ 27600.],\n",
       "        [ 27500.],\n",
       "        [ 27400.],\n",
       "        [ 27300.],\n",
       "        [ 27200.],\n",
       "        [ 27100.],\n",
       "        [ 27000.],\n",
       "        [ 26900.],\n",
       "        [ 26800.],\n",
       "        [ 26700.],\n",
       "        [ 26600.],\n",
       "        [ 26500.],\n",
       "        [ 26400.],\n",
       "        [ 26300.],\n",
       "        [ 26200.],\n",
       "        [ 26100.],\n",
       "        [ 26000.],\n",
       "        [ 25900.],\n",
       "        [ 25800.],\n",
       "        [ 25700.],\n",
       "        [ 25600.],\n",
       "        [ 25500.],\n",
       "        [ 25400.],\n",
       "        [ 25300.],\n",
       "        [ 25200.],\n",
       "        [ 25100.],\n",
       "        [ 25000.],\n",
       "        [ 24900.],\n",
       "        [ 24800.],\n",
       "        [ 24700.],\n",
       "        [ 24600.],\n",
       "        [ 24500.],\n",
       "        [ 24400.],\n",
       "        [ 24300.],\n",
       "        [ 24200.],\n",
       "        [ 24100.],\n",
       "        [ 24000.],\n",
       "        [ 23900.],\n",
       "        [ 23800.],\n",
       "        [ 23700.],\n",
       "        [ 23600.],\n",
       "        [ 23500.],\n",
       "        [ 23400.],\n",
       "        [ 23300.],\n",
       "        [ 23200.],\n",
       "        [ 23100.],\n",
       "        [ 23000.],\n",
       "        [ 22900.],\n",
       "        [ 22800.],\n",
       "        [ 22700.],\n",
       "        [ 22600.],\n",
       "        [ 22500.],\n",
       "        [ 22400.],\n",
       "        [ 22300.],\n",
       "        [ 22200.],\n",
       "        [ 22100.],\n",
       "        [ 22000.],\n",
       "        [ 21900.],\n",
       "        [ 21800.],\n",
       "        [ 21700.],\n",
       "        [ 21600.],\n",
       "        [ 21500.],\n",
       "        [ 21400.],\n",
       "        [ 21300.],\n",
       "        [ 21200.],\n",
       "        [ 21100.],\n",
       "        [ 21000.],\n",
       "        [ 20900.],\n",
       "        [ 20800.],\n",
       "        [ 20700.],\n",
       "        [ 20600.],\n",
       "        [ 20500.],\n",
       "        [ 20400.],\n",
       "        [ 20300.],\n",
       "        [ 20200.],\n",
       "        [ 20100.],\n",
       "        [ 20000.],\n",
       "        [ 19900.],\n",
       "        [ 19800.],\n",
       "        [ 19700.],\n",
       "        [ 19600.],\n",
       "        [ 19500.],\n",
       "        [ 19400.],\n",
       "        [ 19300.],\n",
       "        [ 19200.],\n",
       "        [ 19100.],\n",
       "        [ 19000.],\n",
       "        [ 18900.],\n",
       "        [ 18800.],\n",
       "        [ 18700.],\n",
       "        [ 18600.],\n",
       "        [ 18500.],\n",
       "        [ 18400.],\n",
       "        [ 18300.],\n",
       "        [ 18200.],\n",
       "        [ 18100.],\n",
       "        [ 18000.],\n",
       "        [ 17900.],\n",
       "        [ 17800.],\n",
       "        [ 17700.],\n",
       "        [ 17600.],\n",
       "        [ 17500.],\n",
       "        [ 17400.],\n",
       "        [ 17300.],\n",
       "        [ 17200.],\n",
       "        [ 17100.],\n",
       "        [ 17000.],\n",
       "        [ 16900.],\n",
       "        [ 16800.],\n",
       "        [ 16700.],\n",
       "        [ 16600.],\n",
       "        [ 16500.],\n",
       "        [ 16400.],\n",
       "        [ 16300.],\n",
       "        [ 16200.],\n",
       "        [ 16100.],\n",
       "        [ 16000.],\n",
       "        [ 15900.],\n",
       "        [ 15800.],\n",
       "        [ 15700.],\n",
       "        [ 15600.],\n",
       "        [ 15500.],\n",
       "        [ 15400.],\n",
       "        [ 15300.],\n",
       "        [ 15200.],\n",
       "        [ 15100.],\n",
       "        [ 15000.],\n",
       "        [ 14900.],\n",
       "        [ 14800.],\n",
       "        [ 14700.],\n",
       "        [ 14600.],\n",
       "        [ 14500.],\n",
       "        [ 14400.],\n",
       "        [ 14300.],\n",
       "        [ 14200.],\n",
       "        [ 14100.],\n",
       "        [ 14000.],\n",
       "        [ 13900.],\n",
       "        [ 13800.],\n",
       "        [ 13700.],\n",
       "        [ 13600.],\n",
       "        [ 13500.],\n",
       "        [ 13400.],\n",
       "        [ 13300.],\n",
       "        [ 13200.],\n",
       "        [ 13100.],\n",
       "        [ 13000.],\n",
       "        [ 12900.],\n",
       "        [ 12800.],\n",
       "        [ 12700.],\n",
       "        [ 12600.],\n",
       "        [ 12500.],\n",
       "        [ 12400.],\n",
       "        [ 12300.],\n",
       "        [ 12200.],\n",
       "        [ 12100.],\n",
       "        [ 12000.],\n",
       "        [ 11900.],\n",
       "        [ 11800.],\n",
       "        [ 11700.],\n",
       "        [ 11600.],\n",
       "        [ 11500.],\n",
       "        [ 11400.],\n",
       "        [ 11300.],\n",
       "        [ 11200.],\n",
       "        [ 11100.],\n",
       "        [ 11000.],\n",
       "        [ 10900.],\n",
       "        [ 10800.],\n",
       "        [ 10700.],\n",
       "        [ 10600.],\n",
       "        [ 10500.],\n",
       "        [ 10400.],\n",
       "        [ 10300.],\n",
       "        [ 10200.]]),\n",
       " array([ 0.94668792,  0.94639074,  0.94581073,  0.94600192,  0.94521852,\n",
       "         0.94667271,  0.94577656,  0.94574824,  0.94609197,  0.94690626,\n",
       "         0.9449428 ,  0.94481681,  0.94562457,  0.93784537,  0.92639885,\n",
       "         0.91422387,  0.90047473,  0.22182791,  0.21940752,  0.21574728,\n",
       "         0.21409541,  0.21028624,  0.20768792,  0.20398193,  0.2011879 ,\n",
       "         0.19765845,  0.19533212,  0.19203383,  0.18925187,  0.18684283,\n",
       "         0.1844217 ,  0.18083433,  0.1778938 ,  0.17478609,  0.17232218,\n",
       "         0.17084319,  0.16689198,  0.16436897,  0.16080187,  0.15838669,\n",
       "         0.15584957,  0.15236728,  0.1501061 ,  0.14784884,  0.14520265,\n",
       "         0.1426818 ,  0.14010105,  0.13726509,  0.13438488,  0.13209384,\n",
       "         0.12957874,  0.12785603,  0.12499672,  0.12313655,  0.11981457,\n",
       "         0.1181238 ,  0.11537523,  0.11407455,  0.11067843,  0.10864621,\n",
       "         0.10644999,  0.1044348 ,  0.10184481,  0.09960955,  0.09759564,\n",
       "         0.09570225,  0.09387606,  0.09165697,  0.09024905,  0.0879189 ,\n",
       "         0.08602651,  0.08444795,  0.08305197,  0.08074036,  0.0787141 ,\n",
       "         0.07719828,  0.07584177,  0.07481737,  0.07275219,  0.07123376,\n",
       "         0.0694963 ,  0.06822711,  0.06651212,  0.06526763,  0.06460859,\n",
       "         0.06302916,  0.06158514,  0.0606793 ,  0.05927225,  0.05815351,\n",
       "         0.05729166,  0.05645509,  0.05529512,  0.05397516,  0.05355994,\n",
       "         0.05225112,  0.05113973,  0.05016931,  0.04931008,  0.04896858,\n",
       "         0.04736106,  0.0465386 ,  0.04562081,  0.04496952,  0.04370648,\n",
       "         0.04299227,  0.04238967,  0.04169964,  0.04080687,  0.04005114,\n",
       "         0.03914201,  0.03821631,  0.0379575 ,  0.03684716,  0.03608203,\n",
       "         0.03572809,  0.03455868,  0.03405803,  0.03327463,  0.03251303,\n",
       "         0.03199835,  0.03140525,  0.03079982,  0.03006483,  0.02946459,\n",
       "         0.02891704,  0.02861499,  0.02768333,  0.0271287 ,  0.02667535,\n",
       "         0.0260636 ,  0.02553747,  0.02489106,  0.02445808,  0.02390643,\n",
       "         0.02333452,  0.02287921,  0.02246723,  0.02187224,  0.02143641,\n",
       "         0.02118562,  0.02054378,  0.02015526,  0.01972316,  0.01931228,\n",
       "         0.01878843,  0.0184504 ,  0.01799186,  0.01762034,  0.01735791,\n",
       "         0.0168847 ,  0.01648264,  0.01611898,  0.01582641,  0.01547371,\n",
       "         0.01509051,  0.01482312,  0.01442277,  0.01406965,  0.01379761,\n",
       "         0.01352685,  0.01327656,  0.01290209,  0.01269661,  0.01236583,\n",
       "         0.01203162,  0.01181123,  0.01157308,  0.01128172,  0.01110743,\n",
       "         0.01079314,  0.01048945,  0.01031558,  0.01006692,  0.00981703,\n",
       "         0.00958181,  0.00937645,  0.00915141,  0.00890978,  0.00873209,\n",
       "         0.0085363 ,  0.00840746,  0.00812983,  0.00794422,  0.00773454,\n",
       "         0.00759333,  0.0073559 ,  0.00718239,  0.0070339 ,  0.0068225 ,\n",
       "         0.00672686,  0.00649165,  0.00632351,  0.00619274,  0.00601737,\n",
       "         0.00584613,  0.00567451,  0.00552889,  0.00535828,  0.00522468,\n",
       "         0.00508874,  0.00491373,  0.00477595,  0.00461377,  0.00446352,\n",
       "         0.00431346,  0.00419403,  0.00401769,  0.00392251]))"
      ]
     },
     "execution_count": 6,
     "metadata": {},
     "output_type": "execute_result"
    }
   ],
   "source": [
    "C_old, y_mins_norm_old"
   ]
  }
 ],
 "metadata": {
  "kernelspec": {
   "display_name": "Python 2",
   "language": "python",
   "name": "python2"
  },
  "language_info": {
   "codemirror_mode": {
    "name": "ipython",
    "version": 2
   },
   "file_extension": ".py",
   "mimetype": "text/x-python",
   "name": "python",
   "nbconvert_exporter": "python",
   "pygments_lexer": "ipython2",
   "version": "2.7.6"
  }
 },
 "nbformat": 4,
 "nbformat_minor": 0
}
