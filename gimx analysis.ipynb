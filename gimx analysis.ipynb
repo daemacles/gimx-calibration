{
 "cells": [
  {
   "cell_type": "code",
   "execution_count": 188,
   "metadata": {
    "collapsed": false
   },
   "outputs": [
    {
     "name": "stdout",
     "output_type": "stream",
     "text": [
      "Populating the interactive namespace from numpy and matplotlib\n"
     ]
    }
   ],
   "source": [
    "%pylab qt"
   ]
  },
  {
   "cell_type": "code",
   "execution_count": 189,
   "metadata": {
    "collapsed": false
   },
   "outputs": [
    {
     "name": "stdout",
     "output_type": "stream",
     "text": [
      "{\n",
      "  \"stdin_port\": 39126, \n",
      "  \"ip\": \"127.0.0.1\", \n",
      "  \"control_port\": 35048, \n",
      "  \"hb_port\": 55538, \n",
      "  \"signature_scheme\": \"hmac-sha256\", \n",
      "  \"key\": \"efc2e6f8-d4e4-408b-8886-5bdce55279e2\", \n",
      "  \"shell_port\": 48489, \n",
      "  \"transport\": \"tcp\", \n",
      "  \"iopub_port\": 50378\n",
      "}\n",
      "\n",
      "Paste the above JSON into a file, and connect with:\n",
      "    $> ipython <app> --existing <file>\n",
      "or, if you are local, you can connect with just:\n",
      "    $> ipython <app> --existing /run/user/1000/jupyter/kernel-ab4d6c52-57d2-4436-ad08-eef2f47274c6.json \n",
      "or even just:\n",
      "    $> ipython <app> --existing \n",
      "if this is the most recent IPython session you have started.\n"
     ]
    }
   ],
   "source": [
    "%matplotlib inline\n",
    "%connect_info"
   ]
  },
  {
   "cell_type": "markdown",
   "metadata": {},
   "source": [
    "Try to mask out HUD/UI elements by detection regions that slowly change from frame to frame"
   ]
  },
  {
   "cell_type": "code",
   "execution_count": 3,
   "metadata": {
    "collapsed": false
   },
   "outputs": [
    {
     "ename": "NameError",
     "evalue": "name 'images' is not defined",
     "output_type": "error",
     "traceback": [
      "\u001b[1;31m---------------------------------------------------------------------------\u001b[0m",
      "\u001b[1;31mNameError\u001b[0m                                 Traceback (most recent call last)",
      "\u001b[1;32m<ipython-input-3-9f6059782af9>\u001b[0m in \u001b[0;36m<module>\u001b[1;34m()\u001b[0m\n\u001b[1;32m----> 1\u001b[1;33m \u001b[0mimages\u001b[0m \u001b[1;33m=\u001b[0m \u001b[0marray\u001b[0m\u001b[1;33m(\u001b[0m\u001b[0mimages\u001b[0m\u001b[1;33m)\u001b[0m\u001b[1;33m\u001b[0m\u001b[0m\n\u001b[0m\u001b[0;32m      2\u001b[0m \u001b[0mdiffs\u001b[0m \u001b[1;33m=\u001b[0m \u001b[0mimages\u001b[0m\u001b[1;33m[\u001b[0m\u001b[1;36m1\u001b[0m\u001b[1;33m:\u001b[0m\u001b[1;33m]\u001b[0m \u001b[1;33m-\u001b[0m \u001b[0mimages\u001b[0m\u001b[1;33m[\u001b[0m\u001b[1;33m:\u001b[0m\u001b[1;33m-\u001b[0m\u001b[1;36m1\u001b[0m\u001b[1;33m]\u001b[0m\u001b[1;33m\u001b[0m\u001b[0m\n\u001b[0;32m      3\u001b[0m \u001b[0mmask\u001b[0m \u001b[1;33m=\u001b[0m \u001b[0mstd\u001b[0m\u001b[1;33m(\u001b[0m\u001b[0mdiffs\u001b[0m\u001b[1;33m,\u001b[0m \u001b[1;36m0\u001b[0m\u001b[1;33m)\u001b[0m\u001b[1;33m\u001b[0m\u001b[0m\n\u001b[0;32m      4\u001b[0m \u001b[0mthresh\u001b[0m \u001b[1;33m=\u001b[0m \u001b[1;36m0.3\u001b[0m\u001b[1;33m;\u001b[0m\u001b[1;33m\u001b[0m\u001b[0m\n\u001b[0;32m      5\u001b[0m \u001b[0mmask\u001b[0m \u001b[1;33m=\u001b[0m \u001b[0mcv2\u001b[0m\u001b[1;33m.\u001b[0m\u001b[0mGaussianBlur\u001b[0m\u001b[1;33m(\u001b[0m\u001b[0mmask\u001b[0m\u001b[1;33m,\u001b[0m \u001b[1;33m(\u001b[0m\u001b[1;36m0\u001b[0m\u001b[1;33m,\u001b[0m\u001b[1;36m0\u001b[0m\u001b[1;33m)\u001b[0m\u001b[1;33m,\u001b[0m \u001b[1;36m2\u001b[0m\u001b[1;33m)\u001b[0m\u001b[1;33m\u001b[0m\u001b[0m\n",
      "\u001b[1;31mNameError\u001b[0m: name 'images' is not defined"
     ]
    }
   ],
   "source": [
    "images = array(images)\n",
    "diffs = images[1:] - images[:-1]\n",
    "mask = std(diffs, 0)\n",
    "thresh = 0.3;\n",
    "mask = cv2.GaussianBlur(mask, (0,0), 2)\n",
    "mask[mask < mask.max() * thresh] = 0\n",
    "mask[mask >= mask.max() * thresh] = 1\n",
    "\n",
    "imshow(mask)"
   ]
  },
  {
   "cell_type": "code",
   "execution_count": 128,
   "metadata": {
    "collapsed": false
   },
   "outputs": [],
   "source": [
    "import cv2"
   ]
  },
  {
   "cell_type": "code",
   "execution_count": 190,
   "metadata": {
    "collapsed": false
   },
   "outputs": [
    {
     "data": {
      "text/plain": [
       "<matplotlib.image.AxesImage at 0x7fdc2bce3650>"
      ]
     },
     "execution_count": 190,
     "metadata": {},
     "output_type": "execute_result"
    },
    {
     "data": {
      "image/png": "[encoded data removed]",
      "text/plain": [
       "<matplotlib.figure.Figure at 0x7fdc3df5c550>"
      ]
     },
     "metadata": {},
     "output_type": "display_data"
    }
   ],
   "source": [
    "mask2 = cv2.medianBlur(array(mask, dtype=np.float32), 5)\n",
    "mask2 = cv2.erode(mask2, ones((3,3)))\n",
    "imshow(mask2)"
   ]
  },
  {
   "cell_type": "code",
   "execution_count": 53,
   "metadata": {
    "collapsed": false
   },
   "outputs": [
    {
     "data": {
      "text/plain": [
       "[<matplotlib.lines.Line2D at 0x7f00c27df5d0>]"
      ]
     },
     "execution_count": 53,
     "metadata": {},
     "output_type": "execute_result"
    }
   ],
   "source": [
    "imshow(images[4], cmap=cm.gray)\n",
    "plot(points[:, 0], points[:, 1], 'r.')"
   ]
  },
  {
   "cell_type": "code",
   "execution_count": 602,
   "metadata": {
    "collapsed": false
   },
   "outputs": [
    {
     "data": {
      "text/plain": [
       "[<matplotlib.lines.Line2D at 0x7f098ee01990>]"
      ]
     },
     "execution_count": 602,
     "metadata": {},
     "output_type": "execute_result"
    },
    {
     "data": {
      "image/png": "[encoded data removed]",
      "text/plain": [
       "<matplotlib.figure.Figure at 0x7f098eff8750>"
      ]
     },
     "metadata": {},
     "output_type": "display_data"
    }
   ],
   "source": [
    "plot(mv[:,0], mv[:,2], '.')"
   ]
  },
  {
   "cell_type": "code",
   "execution_count": 1614,
   "metadata": {
    "collapsed": false
   },
   "outputs": [
    {
     "data": {
      "text/plain": [
       "(2.9389954384692558e-05, -0.035636072284646048, 29.733696485112709)"
      ]
     },
     "execution_count": 1614,
     "metadata": {},
     "output_type": "execute_result"
    }
   ],
   "source": [
    "from sklearn import linear_model\n",
    "\n",
    "X = np.vstack((mv[:, 0]**2, mv[:, 0], ones(mv.shape[0]))).T\n",
    "y = mv[:, 2]\n",
    "\n",
    "# Robustly fit linear model with RANSAC algorithm\n",
    "model_ransac = linear_model.RANSACRegressor(linear_model.LinearRegression(fit_intercept=False))\n",
    "model_ransac.fit(X, y)\n",
    "inlier_mask = model_ransac.inlier_mask_\n",
    "outlier_mask = np.logical_not(inlier_mask)\n",
    "\n",
    "a, b, c = model_ransac.estimator_.coef_\n",
    "a, b, c"
   ]
  },
  {
   "cell_type": "code",
   "execution_count": 1615,
   "metadata": {
    "collapsed": false
   },
   "outputs": [
    {
     "data": {
      "text/plain": [
       "18.931283939195769"
      ]
     },
     "execution_count": 1615,
     "metadata": {},
     "output_type": "execute_result"
    }
   ],
   "source": [
    "%matplotlib qt\n",
    "\n",
    "X_in = mv[inlier_mask, 0]\n",
    "X_out = mv[outlier_mask, 0]\n",
    "y_in = mv[inlier_mask, 2]\n",
    "y_out = mv[outlier_mask, 2]\n",
    "plot(X_in, y_in, '.')\n",
    "plot(X_out, y_out, '.')\n",
    "t = linspace(X_in.min(), X_in.max(), 100)\n",
    "plot(t, a*t**2 + b*t + c)\n",
    "x_min = -b/(2*a)\n",
    "a*x_min**2 + b*x_min + c"
   ]
  },
  {
   "cell_type": "code",
   "execution_count": 1672,
   "metadata": {
    "collapsed": false
   },
   "outputs": [
    {
     "data": {
      "text/plain": [
       "[<matplotlib.lines.Line2D at 0x7f098b0f6650>]"
      ]
     },
     "execution_count": 1672,
     "metadata": {},
     "output_type": "execute_result"
    }
   ],
   "source": [
    "control = [10e3, 15e3, 20e3,\n",
    "           25e3, 26e3, 27e3, 28e3, 29e3, 29.5e3,\n",
    "           30e3]\n",
    "speed = [9.740644336872279/3, 36.030645952209511/3, 37.124312115088088, \n",
    "         101.34249310780383, 123.63380553013994, 80.687738743971806*2, 95.34390238190602*2, 110.64445509500386*2, 78.85052787064636*10,\n",
    "         162.92974488164242*10]\n",
    "plot(control, speed, '.-')"
   ]
  },
  {
   "cell_type": "code",
   "execution_count": 687,
   "metadata": {
    "collapsed": false
   },
   "outputs": [
    {
     "name": "stdout",
     "output_type": "stream",
     "text": [
      "Populating the interactive namespace from numpy and matplotlib\n"
     ]
    }
   ],
   "source": [
    "%pylab qt\n",
    "\n",
    "from sklearn import linear_model\n",
    "x_mins = []\n",
    "y_mins = []\n",
    "for idx in range(len(M)):\n",
    "    mv = M[idx]\n",
    "    s = S[idx]\n",
    "    #plot(mv[:,0], mv[:,2], '.')\n",
    "    \n",
    "    X = np.vstack((mv[:, 0]**2, mv[:, 0], ones(mv.shape[0]))).T\n",
    "    y = mv[:, 2] / s\n",
    "\n",
    "    # Robustly fit linear model with RANSAC algorithm\n",
    "    model_ransac = linear_model.RANSACRegressor(linear_model.LinearRegression(fit_intercept=False))\n",
    "    model_ransac.fit(X, y)\n",
    "    inlier_mask = model_ransac.inlier_mask_\n",
    "    outlier_mask = np.logical_not(inlier_mask)\n",
    "\n",
    "    a, b, c = model_ransac.estimator_.coef_\n",
    "    a, b, c\n",
    "    \n",
    "    X_in = mv[inlier_mask, 0]\n",
    "    X_out = mv[outlier_mask, 0]\n",
    "    y_in = mv[inlier_mask, 2] / s\n",
    "    y_out = mv[outlier_mask, 2] / s\n",
    "    plot(X_in, y_in, '.')\n",
    "    #plot(X_out, y_out, '.')\n",
    "    t = linspace(X_in.min(), X_in.max(), 100)\n",
    "    plot(t, a*t**2 + b*t + c)\n",
    "    x_min = -b/(2*a)\n",
    "    x_mins.append(x_min)\n",
    "    y_mins.append(a*x_min**2 + b*x_min + c)"
   ]
  },
  {
   "cell_type": "code",
   "execution_count": 689,
   "metadata": {
    "collapsed": false
   },
   "outputs": [
    {
     "data": {
      "text/plain": [
       "[<matplotlib.lines.Line2D at 0x7fbdd1413dd0>]"
      ]
     },
     "execution_count": 689,
     "metadata": {},
     "output_type": "execute_result"
    }
   ],
   "source": [
    "plot(y_mins, '.')"
   ]
  },
  {
   "cell_type": "code",
   "execution_count": 681,
   "metadata": {
    "collapsed": false
   },
   "outputs": [
    {
     "data": {
      "text/plain": [
       "209"
      ]
     },
     "execution_count": 681,
     "metadata": {},
     "output_type": "execute_result"
    }
   ],
   "source": [
    "len(M)"
   ]
  }
 ],
 "metadata": {
  "kernelspec": {
   "display_name": "Python 2",
   "language": "python",
   "name": "python2"
  },
  "language_info": {
   "codemirror_mode": {
    "name": "ipython",
    "version": 2
   },
   "file_extension": ".py",
   "mimetype": "text/x-python",
   "name": "python",
   "nbconvert_exporter": "python",
   "pygments_lexer": "ipython2",
   "version": "2.7.6"
  }
 },
 "nbformat": 4,
 "nbformat_minor": 0
}
